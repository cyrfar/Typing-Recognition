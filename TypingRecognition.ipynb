{
 "cells": [
  {
   "cell_type": "code",
   "execution_count": 10,
   "metadata": {
    "collapsed": true
   },
   "outputs": [],
   "source": [
    "from timeit import default_timer\n",
    "from tkinter import *\n",
    "import numpy as np\n",
    "from time import time\n",
    "import sys"
   ]
  },
  {
   "cell_type": "code",
   "execution_count": 11,
   "metadata": {
    "collapsed": true
   },
   "outputs": [],
   "source": [
    "text_train=\"The goal of this program is to identify a user from the way he or she types.\"\n",
    "text_test =\"Let us see if I can tell who you are based on your unique way of typing.\"\n",
    "\n",
    "def get_user_data(text):\n",
    "    \"\"\"GUI that makes user type a text and outputs a dict \n",
    "    with TWOGRAMS as keys and typing times as values.\n",
    "    \"\"\"\n",
    "    \n",
    "    # Create the root window\n",
    "    root = Tk()\n",
    "    root.geometry('1500x200+100+100')\n",
    "    root.title('Typing Recognition Program')\n",
    "    \n",
    "    # Create a keystroke handler\n",
    "    keys=[]\n",
    "    times=[]\n",
    "    def key(event):\n",
    "        if (event.keysym == 'Return'):\n",
    "            root.destroy()\n",
    "        else:\n",
    "            keystroke, t = event.char, time()\n",
    "            #print('(keystroke, time):', (repr(event.char),time()))\n",
    "            keys.append(keystroke)\n",
    "            times.append(t)\n",
    "\n",
    "    # Create a label with instructions\n",
    "    text= '\\nType the following text, then press \"Enter\" to exit:\\n\\n\\n'+'\\\"'+text+'\\\"\\n'\n",
    "    label = Label(root, width=400, height=300, text=text, justify=LEFT)\n",
    "    label.pack(fill=BOTH, expand=1)\n",
    "    label.bind('<Key>', key)\n",
    "    label.focus_set()\n",
    "\n",
    "    # Hand over to the Tkinter event loop\n",
    "    root.mainloop()\n",
    "    \n",
    "    #create arrays with kestroke and time info\n",
    "    keys=np.array(keys)\n",
    "    times = np.array(times)-times[0]\n",
    "    \n",
    "    #test if the text was typed in correctly\n",
    "    if ''.join(keys) != text[57:-2]:\n",
    "        raise ValueError('There were typos. Please try again.')\n",
    "        #return('There were typos. Please try again.')\n",
    "    else:\n",
    "        #contruct twograms from data\n",
    "        twograms_data=[]\n",
    "        for i in range(len(keys)-1):\n",
    "            twograms_data.append((keys[i], keys[i+1]))\n",
    "            \n",
    "        #get time difference for corresponding twograms in data\n",
    "        timediff=[]\n",
    "        for i in range(len(times)-1):\n",
    "            timediff.append(times[i+1]-times[i])\n",
    "        \n",
    "        #store data in dict\n",
    "        data = {twograms_data[i]:timediff[i] for i in range(len(timediff))}\n",
    "        return(data)\n",
    "    \n",
    "#function that initializes all possible twograms (in any alphabet) to zero and returns them in dict\n",
    "def initialize_twograms(alphabet):\n",
    "    twograms = []\n",
    "    for l1 in alphabet:\n",
    "        for l2 in alphabet:\n",
    "            twograms.append((l1,l2))\n",
    "    d = {twograms[i]:0 for i in range(len(twograms))}\n",
    "    return(d)\n",
    "\n",
    "def collect_data(text=text_train):\n",
    "    user = initialize_twograms(alphabet)\n",
    "    data = get_user_data(text)\n",
    "    for key in set(data.keys()).intersection(set(user.keys())):\n",
    "        user[key] = data[key]        \n",
    "    return(user)\n",
    "\n",
    "#function that calculates the mean squared error between values of dicts\n",
    "def msq(d1, d2):    \n",
    "    arr1 = np.array(list(d1.values()))\n",
    "    arr2 = np.array(list(d2.values()))\n",
    "    err = (arr1 - arr2)**2\n",
    "    return np.mean(err) \n",
    "\n",
    "def test_program(users, text=text_test):  \n",
    "    user_unknown = collect_data(text)\n",
    "    #construct a matrix with the similarity scores\n",
    "    scores = [msq(users[i], user_unknown) for i in range(len(users))]\n",
    "    print('Mean Squared Error ={}\\nThe unknown user is {}.'.format(scores, np.argmin(scores)+1 ) )\n",
    "    return"
   ]
  },
  {
   "cell_type": "code",
   "execution_count": 12,
   "metadata": {
    "collapsed": true
   },
   "outputs": [],
   "source": [
    "#the alphabet with 27 letters that we will use\n",
    "alphabet = list(map(chr, range(97, 123)))+ [' ']"
   ]
  },
  {
   "cell_type": "code",
   "execution_count": 20,
   "metadata": {},
   "outputs": [],
   "source": [
    "#collect data \n",
    "user1 = collect_data('This is a test')"
   ]
  },
  {
   "cell_type": "code",
   "execution_count": 21,
   "metadata": {},
   "outputs": [],
   "source": [
    "user2 = collect_data('This is a test')"
   ]
  },
  {
   "cell_type": "code",
   "execution_count": 24,
   "metadata": {},
   "outputs": [
    {
     "name": "stdout",
     "output_type": "stream",
     "text": [
      "Mean Squared Error =[0.013305606019846565, 0.015031558340377282]\n",
      "The unknown user is 1.\n"
     ]
    }
   ],
   "source": [
    "#test program\n",
    "test_program([user1, user2], 'The moment of truth')"
   ]
  },
  {
   "cell_type": "code",
   "execution_count": null,
   "metadata": {},
   "outputs": [],
   "source": []
  }
 ],
 "metadata": {
  "kernelspec": {
   "display_name": "Python 3",
   "language": "python",
   "name": "python3"
  },
  "language_info": {
   "codemirror_mode": {
    "name": "ipython",
    "version": 3
   },
   "file_extension": ".py",
   "mimetype": "text/x-python",
   "name": "python",
   "nbconvert_exporter": "python",
   "pygments_lexer": "ipython3",
   "version": "3.6.4"
  },
  "toc": {
   "colors": {
    "hover_highlight": "#DAA520",
    "navigate_num": "#000000",
    "navigate_text": "#333333",
    "running_highlight": "#FF0000",
    "selected_highlight": "#FFD700",
    "sidebar_border": "#EEEEEE",
    "wrapper_background": "#FFFFFF"
   },
   "moveMenuLeft": true,
   "nav_menu": {
    "height": "4px",
    "width": "254px"
   },
   "navigate_menu": true,
   "number_sections": true,
   "sideBar": true,
   "threshold": 4,
   "toc_cell": false,
   "toc_section_display": "block",
   "toc_window_display": true,
   "widenNotebook": false
  }
 },
 "nbformat": 4,
 "nbformat_minor": 2
}
